{
  "nbformat": 4,
  "nbformat_minor": 0,
  "metadata": {
    "colab": {
      "name": "arithmatic_operation.ipynb",
      "provenance": [],
      "authorship_tag": "ABX9TyNI8Oy+cjCPV8Vabd7+NFsw",
      "include_colab_link": true
    },
    "kernelspec": {
      "name": "python3",
      "display_name": "Python 3"
    },
    "language_info": {
      "name": "python"
    }
  },
  "cells": [
    {
      "cell_type": "markdown",
      "metadata": {
        "id": "view-in-github",
        "colab_type": "text"
      },
      "source": [
        "<a href=\"https://colab.research.google.com/github/afaizr/Belajar/blob/main/arithmatic_operation.ipynb\" target=\"_parent\"><img src=\"https://colab.research.google.com/assets/colab-badge.svg\" alt=\"Open In Colab\"/></a>"
      ]
    },
    {
      "cell_type": "code",
      "metadata": {
        "colab": {
          "base_uri": "https://localhost:8080/"
        },
        "id": "5W8r-7RQmMvc",
        "outputId": "6ba91933-3e1b-4424-f8de-b49ccca9c848"
      },
      "source": [
        "x = 10\n",
        "print(x)\n",
        "x = x + 3\n",
        "print(x)\n",
        "x += 3\n",
        "print(x)\n",
        "x -= 3\n",
        "print(x)"
      ],
      "execution_count": 3,
      "outputs": [
        {
          "output_type": "stream",
          "text": [
            "10\n",
            "13\n",
            "16\n",
            "13\n"
          ],
          "name": "stdout"
        }
      ]
    }
  ]
}