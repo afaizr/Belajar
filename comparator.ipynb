{
  "nbformat": 4,
  "nbformat_minor": 0,
  "metadata": {
    "colab": {
      "name": "comparator.ipynb",
      "provenance": [],
      "authorship_tag": "ABX9TyMLINHkiJ36hcUVOsENZ3k3",
      "include_colab_link": true
    },
    "kernelspec": {
      "name": "python3",
      "display_name": "Python 3"
    },
    "language_info": {
      "name": "python"
    }
  },
  "cells": [
    {
      "cell_type": "markdown",
      "metadata": {
        "id": "view-in-github",
        "colab_type": "text"
      },
      "source": [
        "<a href=\"https://colab.research.google.com/github/afaizr/Belajar/blob/main/comparator.ipynb\" target=\"_parent\"><img src=\"https://colab.research.google.com/assets/colab-badge.svg\" alt=\"Open In Colab\"/></a>"
      ]
    },
    {
      "cell_type": "code",
      "metadata": {
        "colab": {
          "base_uri": "https://localhost:8080/"
        },
        "id": "ksmDRjENn8T6",
        "outputId": "37111373-8069-4a33-fb68-a4f076c31f11"
      },
      "source": [
        "#setelah nanti mengcompare, maka x akan menjadi boolean\n",
        "x = 3 > 2\n",
        "print(x)\n",
        "x = 3 >= 2\n",
        "print(x)\n",
        "x = 3 < 2\n",
        "print(x)\n",
        "x = 3 <= 2\n",
        "print(x)\n",
        "x = 3 == 2\n",
        "print(x)\n",
        "x = 3 != 2 #not equal to\n",
        "print(x)\n"
      ],
      "execution_count": 2,
      "outputs": [
        {
          "output_type": "stream",
          "text": [
            "True\n",
            "True\n",
            "False\n",
            "False\n",
            "False\n",
            "True\n"
          ],
          "name": "stdout"
        }
      ]
    }
  ]
}